{
  "nbformat": 4,
  "nbformat_minor": 0,
  "metadata": {
    "colab": {
      "name": "Q2.ipynb",
      "provenance": []
    },
    "kernelspec": {
      "name": "python3",
      "display_name": "Python 3"
    },
    "language_info": {
      "name": "python"
    }
  },
  "cells": [
    {
      "cell_type": "code",
      "metadata": {
        "id": "PIqW0KBGQikr"
      },
      "source": [
        ""
      ],
      "execution_count": null,
      "outputs": []
    },
    {
      "cell_type": "code",
      "metadata": {
        "colab": {
          "base_uri": "https://localhost:8080/"
        },
        "id": "at-Gi8IOil7N",
        "outputId": "71c19290-c241-4208-b258-ac8c49d9e3c1"
      },
      "source": [
        "%matplotlib inline\n",
        "import tensorflow as tf\n",
        "from tensorflow import keras\n",
        "from tensorflow.keras import datasets,layers,models\n",
        "import numpy as np\n",
        "import matplotlib.pyplot as plt\n",
        "\n",
        "(x_train, y_train), (x_test, y_test) = keras.datasets.cifar10.load_data()\n",
        "\n",
        "K = len(np.unique(y_train)) # Classes\n",
        "Ntr = x_train.shape[0]\n",
        "Nte = x_test.shape[0]\n",
        "Din = 3072 # CIFAR10 32x32x3\n",
        "\n",
        "# Normalize pixel values\n",
        "mean_image = np.mean(x_train, axis=0)\n",
        "x_train = x_train - mean_image\n",
        "x_test = x_test - mean_image\n",
        "\n",
        "y_train =  tf.keras.utils.to_categorical(y_train, num_classes=K)\n",
        "y_test = tf.keras.utils.to_categorical(y_test, num_classes=K)\n",
        "\n",
        "x_train = np.reshape(x_train,(Ntr,Din))\n",
        "x_test = np.reshape(x_test,(Nte,Din))\n",
        "x_train = x_train.astype('float32')\n",
        "x_test = x_test.astype('float32')\n",
        "\n",
        "H = 200\n",
        "std=1e-5\n",
        "w1 = std*np.random.randn(Din, H)\n",
        "w2 = std*np.random.randn(H, K)\n",
        "b1 = np.zeros(H)\n",
        "b2 = np.zeros(K)\n",
        "print(\"w1:\", w1.shape)\n",
        "print(\"b1:\", b1.shape)\n",
        "print(\"w2:\", w2.shape)\n",
        "print(\"b2:\", b2.shape)\n",
        "\n",
        "batch_size = Ntr\n",
        "\n",
        "iterations = 300\n",
        "lr = 1.4e-2\n",
        "lr_decay= 0.999\n",
        "reg = 5e-6\n",
        "\n",
        "testing_loss_history = []\n",
        "training_loss_history = []\n",
        "testing_acc_history = []\n",
        "training_acc_history = []\n",
        "seed = 0\n",
        "rng = np.random.default_rng(seed=seed)\n",
        "\n",
        "indices = np.arange(Ntr)\n",
        "\n",
        "for t in range(iterations):\n",
        "    rng.shuffle(indices)#Shuffling the dataset\n",
        "    x=x_train[indices]\n",
        "    y=y_train[indices]\n",
        "\n",
        "    # Forward pass\n",
        "    h =1.0/(1.0 + np.exp(-(x.dot(w1)+b1)))\n",
        "    y_pred = h.dot(w2) + b2\n",
        "    h_test = 1.0/(1.0 + np.exp(-(x_test.dot(w1)+b1)))\n",
        "    y_test_pred = h_test.dot(w2)+b2\n",
        "\n",
        "    testing_loss=1./Nte*(np.square(y_test_pred-y_test)).sum() + reg * np.sum(w1*w1)\n",
        "    training_loss=1./batch_size*(np.square(y_pred-y)).sum() + reg * np.sum(w1*w1)\n",
        "    testing_loss_history.append(testing_loss)\n",
        "    training_loss_history.append(training_loss)\n",
        "\n",
        "    training_acc = 1.0 - (1/(batch_size*K))*(np.abs(np.argmax(y,axis=1) - np.argmax(y_pred,axis=1))).sum()\n",
        "    training_acc_history.append(training_acc)\n",
        "    testing_acc = 1.0 - (1/(Nte*K))*(np.abs(np.argmax(y_test,axis=1) - np.argmax(y_test_pred,axis=1))).sum()\n",
        "    testing_acc_history.append(testing_acc)\n",
        "\n",
        "    if t%10==0:\n",
        "        print('epoch = ', t, ' train loss = ', training_loss ,' test loss =  ', testing_loss, ' train accuracy = ', training_loss, 'test accuracy = ', testing_acc)\n",
        "\n",
        "    # Backward pass\n",
        "\n",
        "    dy_pred = 1./batch_size*2.0*(y_pred-y)#partial differentiation\n",
        "    dw2 = h.T.dot(dy_pred) + reg * w2\n",
        "    db2 = dy_pred.sum(axis=0)\n",
        "    dh = dy_pred.dot(w2.T)\n",
        "    dw1 = x.T.dot(dh*h*(1-h))+reg*w1\n",
        "    db1 = (dh*h*(1-h)).sum(axis=0) \n",
        "\n",
        "    w1 -= lr*dw1\n",
        "    w2 -= lr*dw2\n",
        "    b1 -= lr*db1\n",
        "    b2 -= lr*db2\n",
        "    lr *= lr_decay\n",
        "\n"
      ],
      "execution_count": 3,
      "outputs": [
        {
          "output_type": "stream",
          "text": [
            "Downloading data from https://www.cs.toronto.edu/~kriz/cifar-10-python.tar.gz\n",
            "170500096/170498071 [==============================] - 4s 0us/step\n",
            "w1: (3072, 200)\n",
            "b1: (200,)\n",
            "w2: (200, 10)\n",
            "b2: (10,)\n",
            "epoch =  0  train loss =  0.9999811606351017  test loss =   0.9999811248277601  train accuracy =  0.9999811606351017 test accuracy =  0.73\n",
            "epoch =  10  train loss =  0.8671377849822048  test loss =   0.8668610935539073  train accuracy =  0.8671377849822048 test accuracy =  0.71499\n",
            "epoch =  20  train loss =  0.8405658302429574  test loss =   0.840465247700496  train accuracy =  0.8405658302429574 test accuracy =  0.7239\n",
            "epoch =  30  train loss =  0.8288094624582408  test loss =   0.8291386350147658  train accuracy =  0.8288094624582408 test accuracy =  0.73463\n",
            "epoch =  40  train loss =  0.8192269047819317  test loss =   0.8199584471936057  train accuracy =  0.8192269047819317 test accuracy =  0.7437499999999999\n",
            "epoch =  50  train loss =  0.8115613167102061  test loss =   0.8126923477356217  train accuracy =  0.8115613167102061 test accuracy =  0.75864\n",
            "epoch =  60  train loss =  0.8011310466156064  test loss =   0.8022781266046339  train accuracy =  0.8011310466156064 test accuracy =  0.7655\n",
            "epoch =  70  train loss =  0.7977769558649312  test loss =   0.7995673954110867  train accuracy =  0.7977769558649312 test accuracy =  0.7661199999999999\n",
            "epoch =  80  train loss =  0.7859120741237968  test loss =   0.7883938504833878  train accuracy =  0.7859120741237968 test accuracy =  0.77405\n",
            "epoch =  90  train loss =  0.7887751899967681  test loss =   0.7919703140273906  train accuracy =  0.7887751899967681 test accuracy =  0.76999\n",
            "epoch =  100  train loss =  0.7834065214568068  test loss =   0.7870908889737911  train accuracy =  0.7834065214568068 test accuracy =  0.77215\n",
            "epoch =  110  train loss =  0.7770307502961342  test loss =   0.7815991284467779  train accuracy =  0.7770307502961342 test accuracy =  0.7767\n",
            "epoch =  120  train loss =  0.777997351247447  test loss =   0.7829481400616652  train accuracy =  0.777997351247447 test accuracy =  0.77403\n",
            "epoch =  130  train loss =  0.769116380027033  test loss =   0.7757705899210933  train accuracy =  0.769116380027033 test accuracy =  0.77832\n",
            "epoch =  140  train loss =  0.7703836638310464  test loss =   0.7787293469064828  train accuracy =  0.7703836638310464 test accuracy =  0.78123\n",
            "epoch =  150  train loss =  0.7746620632103967  test loss =   0.7816991227752583  train accuracy =  0.7746620632103967 test accuracy =  0.77522\n",
            "epoch =  160  train loss =  0.7707601715362434  test loss =   0.7793752187052478  train accuracy =  0.7707601715362434 test accuracy =  0.77401\n",
            "epoch =  170  train loss =  0.7646261033085417  test loss =   0.7748302015850109  train accuracy =  0.7646261033085417 test accuracy =  0.77987\n",
            "epoch =  180  train loss =  0.762581185292975  test loss =   0.7738538653961302  train accuracy =  0.762581185292975 test accuracy =  0.7796\n",
            "epoch =  190  train loss =  0.754199656066301  test loss =   0.7676098119559824  train accuracy =  0.754199656066301 test accuracy =  0.78651\n",
            "epoch =  200  train loss =  0.7570230624890059  test loss =   0.7689985864691898  train accuracy =  0.7570230624890059 test accuracy =  0.77916\n",
            "epoch =  210  train loss =  0.7581238536293694  test loss =   0.7708660446192608  train accuracy =  0.7581238536293694 test accuracy =  0.77752\n",
            "epoch =  220  train loss =  0.7551254917974475  test loss =   0.7688898225433001  train accuracy =  0.7551254917974475 test accuracy =  0.77744\n",
            "epoch =  230  train loss =  0.7457863723002911  test loss =   0.7627399003342084  train accuracy =  0.7457863723002911 test accuracy =  0.78695\n",
            "epoch =  240  train loss =  0.7491952506960086  test loss =   0.76622655786026  train accuracy =  0.7491952506960086 test accuracy =  0.7872699999999999\n",
            "epoch =  250  train loss =  0.743637587333046  test loss =   0.7614457671184688  train accuracy =  0.743637587333046 test accuracy =  0.78489\n",
            "epoch =  260  train loss =  0.7400088628588583  test loss =   0.7599421181641655  train accuracy =  0.7400088628588583 test accuracy =  0.78762\n",
            "epoch =  270  train loss =  0.7404791457955774  test loss =   0.7599493046512624  train accuracy =  0.7404791457955774 test accuracy =  0.79023\n",
            "epoch =  280  train loss =  0.7417081634133287  test loss =   0.7624063261193957  train accuracy =  0.7417081634133287 test accuracy =  0.7863\n",
            "epoch =  290  train loss =  0.7360799351124881  test loss =   0.7588623003501316  train accuracy =  0.7360799351124881 test accuracy =  0.7862\n"
          ],
          "name": "stdout"
        }
      ]
    },
    {
      "cell_type": "code",
      "metadata": {
        "colab": {
          "base_uri": "https://localhost:8080/",
          "height": 512
        },
        "id": "iN2otSwBqnym",
        "outputId": "3ad80f41-e934-44ad-a88f-60b91d7a71f5"
      },
      "source": [
        "import matplotlib.pyplot as plt\n",
        "\n",
        "plt.plot(training_acc_history)\n",
        "f, axarr = plt.subplots(1, 10)\n",
        "f.set_size_inches(16, 6)"
      ],
      "execution_count": 7,
      "outputs": [
        {
          "output_type": "display_data",
          "data": {
            "image/png": "[encoded data removed]",
            "text/plain": [
              "<Figure size 432x288 with 1 Axes>"
            ]
          },
          "metadata": {
            "tags": [],
            "needs_background": "light"
          }
        },
        {
          "output_type": "display_data",
          "data": {
            "image/png": "[encoded data removed]",
            "text/plain": [
              "<Figure size 1152x432 with 10 Axes>"
            ]
          },
          "metadata": {
            "tags": [],
            "needs_background": "light"
          }
        }
      ]
    }
  ]
}